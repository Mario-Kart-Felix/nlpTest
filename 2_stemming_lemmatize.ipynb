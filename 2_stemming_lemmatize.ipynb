{
 "cells": [
  {
   "cell_type": "markdown",
   "metadata": {},
   "source": [
    "# Importing Data"
   ]
  },
  {
   "cell_type": "code",
   "execution_count": null,
   "metadata": {
    "collapsed": true
   },
   "outputs": [],
   "source": []
  },
  {
   "cell_type": "code",
   "execution_count": 2,
   "metadata": {
    "collapsed": false
   },
   "outputs": [
    {
     "name": "stdout",
     "output_type": "stream",
     "text": [
      "Total rows in title data = 29657\n",
      "[\"Indian Subcontinent FAQ thread'\", \"'Another India Visa scam - www.indianetouristvisa.co.in?'\", \"'New Delhi arrival at midnight'\", \"'Goa in September - information please'\", \"'question about india tourist visa -  re-entry after 90 days'\"]\n"
     ]
    }
   ],
   "source": [
    "# importing Data\n",
    "f_title = open(\"dataTitle.csv\", \"r\").readlines()\n",
    "print(\"Total rows in title data = {}\".format(len(f_title)))\n",
    "\n",
    "# Cleaning up the escape charaters\n",
    "rawData = [ x.strip() for x in f_title if len(x)>0]\n",
    "print(rawData[0:5])"
   ]
  },
  {
   "cell_type": "code",
   "execution_count": 30,
   "metadata": {
    "collapsed": false
   },
   "outputs": [
    {
     "name": "stdout",
     "output_type": "stream",
     "text": [
      "[nltk_data] Downloading package wordnet to\n",
      "[nltk_data]     /Users/amitchanchal/nltk_data...\n",
      "[nltk_data]   Unzipping corpora/wordnet.zip.\n"
     ]
    }
   ],
   "source": [
    "import string\n",
    "import re\n",
    "import nltk\n",
    "\n",
    "nltk.download('wordnet')\n",
    "from nltk.corpus import stopwords\n",
    "from nltk.stem import WordNetLemmatizer\n",
    "\n",
    "wnLemm = WordNetLemmatizer()\n",
    "\n",
    "\n",
    "\n",
    "# from nltk.stem import PorterStemmer\n",
    "# from nltk.tokenize import sent_tokenize, word_tokenize\n",
    "\n",
    "# ps = PorterStemmer()"
   ]
  },
  {
   "cell_type": "code",
   "execution_count": 31,
   "metadata": {
    "collapsed": false
   },
   "outputs": [
    {
     "data": {
      "text/plain": [
       "['hey', 'going', 'somewhere', 'drink']"
      ]
     },
     "execution_count": 31,
     "metadata": {},
     "output_type": "execute_result"
    }
   ],
   "source": [
    "def cleanData(text):\n",
    "    '''\n",
    "     one big cleaning function with five not best practice \n",
    "     functions : remove punctuation, tokenize, lower, remove stopwords, stemming\n",
    "    '''\n",
    "    # remove punctuations\n",
    "    text_no_punct = \"\".join([x for x in text if x not in string.punctuation])\n",
    "    # tokenize the text\n",
    "    text_tokenized = re.split('\\W+', text_no_punct)\n",
    "    # convert to lowercase\n",
    "    text_lower = [x.lower() for x in text_tokenized]\n",
    "    # remove the stopwords\n",
    "    text_no_stop = [x for x in text_lower if x not in stopwords.words('english')]\n",
    "    # stemming the words\n",
    "    #text_stemmed = [ps.stem(x) for x in text_no_stop]\n",
    "    # picking instead lemmatizer for the text\n",
    "    text_lemmetized = [wnLemm.lemmatize(x) for x in text_no_stop]\n",
    "    # clean empty items\n",
    "    text_clean = [x for x in text_lemmetized if len(x)> 0]\n",
    "    return text_clean\n",
    "\n",
    "cleanData(\"'Hey there, are you going somewhere to drink -?'\")"
   ]
  },
  {
   "cell_type": "code",
   "execution_count": 22,
   "metadata": {
    "collapsed": false
   },
   "outputs": [
    {
     "name": "stdout",
     "output_type": "stream",
     "text": [
      "                                                text\n",
      "0                    Indian Subcontinent FAQ thread'\n",
      "1  'Another India Visa scam - www.indianetouristv...\n",
      "2                    'New Delhi arrival at midnight'\n",
      "3            'Goa in September - information please'\n",
      "4  'question about india tourist visa -  re-entry...\n"
     ]
    }
   ],
   "source": [
    "import pandas as pd\n",
    "\n",
    "data = pd.DataFrame(rawData, columns=['text'])\n",
    "print(data[0:5])"
   ]
  },
  {
   "cell_type": "markdown",
   "metadata": {},
   "source": [
    "# Apply the cleaning function to the DataFrame"
   ]
  },
  {
   "cell_type": "code",
   "execution_count": 32,
   "metadata": {
    "collapsed": false
   },
   "outputs": [
    {
     "name": "stdout",
     "output_type": "stream",
     "text": [
      "                                                text  \\\n",
      "0                    Indian Subcontinent FAQ thread'   \n",
      "1  'Another India Visa scam - www.indianetouristv...   \n",
      "2                    'New Delhi arrival at midnight'   \n",
      "3            'Goa in September - information please'   \n",
      "4  'question about india tourist visa -  re-entry...   \n",
      "\n",
      "                                        text_cleaned  \n",
      "0                [indian, subcontinent, faq, thread]  \n",
      "1  [another, india, visa, scam, wwwindianetourist...  \n",
      "2                    [new, delhi, arrival, midnight]  \n",
      "3              [goa, september, information, please]  \n",
      "4  [question, india, tourist, visa, reentry, 90, ...  \n"
     ]
    }
   ],
   "source": [
    "data['text_cleaned'] = data['text'].apply(lambda x: cleanData(x))\n",
    "print(data[0:5])"
   ]
  },
  {
   "cell_type": "code",
   "execution_count": null,
   "metadata": {
    "collapsed": true
   },
   "outputs": [],
   "source": []
  }
 ],
 "metadata": {
  "kernelspec": {
   "display_name": "Python 3",
   "language": "python",
   "name": "python3"
  },
  "language_info": {
   "codemirror_mode": {
    "name": "ipython",
    "version": 3
   },
   "file_extension": ".py",
   "mimetype": "text/x-python",
   "name": "python",
   "nbconvert_exporter": "python",
   "pygments_lexer": "ipython3",
   "version": "3.5.2"
  }
 },
 "nbformat": 4,
 "nbformat_minor": 1
}
