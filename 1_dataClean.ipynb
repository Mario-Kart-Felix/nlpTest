{
 "cells": [
  {
   "cell_type": "markdown",
   "metadata": {},
   "source": [
    "# 1. Reading CSV data"
   ]
  },
  {
   "cell_type": "code",
   "execution_count": 5,
   "metadata": {
    "collapsed": false
   },
   "outputs": [
    {
     "name": "stdout",
     "output_type": "stream",
     "text": [
      "Total rows in title data = 29657\n"
     ]
    }
   ],
   "source": [
    "# Data cleaning pipeline\n",
    "\n",
    "# reading the titles\n",
    "f_title = open(\"dataTitle.csv\", \"r\").readlines()\n",
    "print(\"Total rows in title data = {}\".format(len(f_title)))\n"
   ]
  },
  {
   "cell_type": "code",
   "execution_count": 6,
   "metadata": {
    "collapsed": false
   },
   "outputs": [
    {
     "name": "stdout",
     "output_type": "stream",
     "text": [
      "[\"Indian Subcontinent FAQ thread'\\n\", \"'Another India Visa scam - www.indianetouristvisa.co.in?'\\n\", \"'New Delhi arrival at midnight'\\n\", \"'Goa in September - information please'\\n\", \"'question about india tourist visa -  re-entry after 90 days'\\n\", \"'Can't decide on an itineary'\\n\", \"'Chamba and Sachu Pass'\\n\", \"'Darcha - Padum road . 2018 '\\n\", \"'Kinnaur and Spiti. Inner line permit at Rencong Poo'\\n\", \"'Regret early return'\\n\"]\n"
     ]
    }
   ],
   "source": [
    "# Let's look at the dataset\n",
    "print(f_title[0:10])"
   ]
  },
  {
   "cell_type": "markdown",
   "metadata": {},
   "source": [
    "# 2. Basic cleaning strip"
   ]
  },
  {
   "cell_type": "code",
   "execution_count": 7,
   "metadata": {
    "collapsed": false
   },
   "outputs": [
    {
     "name": "stdout",
     "output_type": "stream",
     "text": [
      "29657\n"
     ]
    }
   ],
   "source": [
    "# Cleaning up the escape charaters\n",
    "cleanedTitle = [ x.strip() for x in f_title if len(x)>0]\n",
    "print(len(cleanedTitle))"
   ]
  },
  {
   "cell_type": "code",
   "execution_count": 8,
   "metadata": {
    "collapsed": false
   },
   "outputs": [
    {
     "name": "stdout",
     "output_type": "stream",
     "text": [
      "[\"Indian Subcontinent FAQ thread'\", \"'Another India Visa scam - www.indianetouristvisa.co.in?'\", \"'New Delhi arrival at midnight'\", \"'Goa in September - information please'\", \"'question about india tourist visa -  re-entry after 90 days'\", \"'Can't decide on an itineary'\", \"'Chamba and Sachu Pass'\", \"'Darcha - Padum road . 2018 '\", \"'Kinnaur and Spiti. Inner line permit at Rencong Poo'\", \"'Regret early return'\"]\n"
     ]
    }
   ],
   "source": [
    "print(cleanedTitle[0:10])"
   ]
  },
  {
   "cell_type": "code",
   "execution_count": 15,
   "metadata": {
    "collapsed": false
   },
   "outputs": [
    {
     "data": {
      "text/plain": [
       "'hell'"
      ]
     },
     "execution_count": 15,
     "metadata": {},
     "output_type": "execute_result"
    }
   ],
   "source": [
    "def removeCharacters (text, removeChar):\n",
    "    '''\n",
    "    Removes given characters from text input \n",
    "    '''\n",
    "    textout = \"\"\n",
    "    for char in text:\n",
    "        if char != removeChar:\n",
    "            textout = textout+char\n",
    "    return textout\n",
    "\n",
    "# Let's see if it works\n",
    "removeCharacters(\"''hell''\", \"'\")"
   ]
  },
  {
   "cell_type": "code",
   "execution_count": 16,
   "metadata": {
    "collapsed": false
   },
   "outputs": [
    {
     "name": "stdout",
     "output_type": "stream",
     "text": [
      "['Indian Subcontinent FAQ thread', 'Another India Visa scam - www.indianetouristvisa.co.in?', 'New Delhi arrival at midnight', 'Goa in September - information please', 'question about india tourist visa -  re-entry after 90 days']\n"
     ]
    }
   ],
   "source": [
    "#titleList = list(map(removeSinglequotes, cleanedTitle))\n",
    "titleList = [removeCharacters(x, \"'\") for x in cleanedTitle]\n",
    "print(titleList[0:5])"
   ]
  },
  {
   "cell_type": "markdown",
   "metadata": {},
   "source": [
    "# 3. Loading data in pandas"
   ]
  },
  {
   "cell_type": "code",
   "execution_count": 17,
   "metadata": {
    "collapsed": true
   },
   "outputs": [],
   "source": [
    "import pandas as pd"
   ]
  },
  {
   "cell_type": "code",
   "execution_count": 20,
   "metadata": {
    "collapsed": false
   },
   "outputs": [],
   "source": [
    "titleDF = pd.DataFrame(titleList, columns = [\"title\"])"
   ]
  },
  {
   "cell_type": "code",
   "execution_count": 21,
   "metadata": {
    "collapsed": false
   },
   "outputs": [
    {
     "data": {
      "text/plain": [
       "<bound method NDFrame.head of                                                    title\n",
       "0                         Indian Subcontinent FAQ thread\n",
       "1      Another India Visa scam - www.indianetouristvi...\n",
       "2                          New Delhi arrival at midnight\n",
       "3                  Goa in September - information please\n",
       "4      question about india tourist visa -  re-entry ...\n",
       "5                             Cant decide on an itineary\n",
       "6                                  Chamba and Sachu Pass\n",
       "7                            Darcha - Padum road . 2018 \n",
       "8      Kinnaur and Spiti. Inner line permit at Rencon...\n",
       "9                                    Regret early return\n",
       "10                        Indian Subcontinent FAQ thread\n",
       "11     Another India Visa scam - www.indianetouristvi...\n",
       "12                         New Delhi arrival at midnight\n",
       "13                 Goa in September - information please\n",
       "14     question about india tourist visa -  re-entry ...\n",
       "15                            Cant decide on an itineary\n",
       "16                                 Chamba and Sachu Pass\n",
       "17                           Darcha - Padum road . 2018 \n",
       "18     Kinnaur and Spiti. Inner line permit at Rencon...\n",
       "19                                   Regret early return\n",
       "20                Join us? Backwater cruise in Alleppey \n",
       "21                       Travel plan North-India / Nepal\n",
       "22                          Headed North from New Delhi \n",
       "23        Transport Ratnagiri-Bangalore and Hampi-Bombay\n",
       "24            Leh, Ladakh, Spitti and the South of India\n",
       "25                  No exit permit stamp on indian visa?\n",
       "26                       Private Tour of Golden Triangle\n",
       "27                        Teahouse Treks Indian himalaya\n",
       "28                            Lingshed in Zanskar - food\n",
       "29                    Help me with ladakh trekking plans\n",
       "...                                                  ...\n",
       "29627                                    HOTELS IN DELHI\n",
       "29628                         Malaria risks in Assam ???\n",
       "29629                 Guesthouse recommendation in Pondi\n",
       "29630                                               Pune\n",
       "29631  Booking a train ticket by Internet - possible ...\n",
       "29632                                     summer travel?\n",
       "29633  How much is it to mail a parcel, India to USA,...\n",
       "29634                              Volunteering in India\n",
       "29635                                            tailor?\n",
       "29636                          motorbike travel in india\n",
       "29637                  INDIA TO AUSTRALIA.. please help!\n",
       "29638                                             Tablas\n",
       "29639  General tips for Tamil Nadu &amp; the Western ...\n",
       "29640  travel from thailand to india (cliche followin...\n",
       "29641                                    Safety in Assam\n",
       "29642                                 Pushkar in one day\n",
       "29643                                      Indian Virgin\n",
       "29644                             Orissa duing February.\n",
       "29645                                       trip to puri\n",
       "29646                                  Pushkar or Jaipur\n",
       "29647                         Do we need a mosquito net?\n",
       "29648             Deciding btw trips...Need help/advice \n",
       "29649                                First time in India\n",
       "29650                                First time in India\n",
       "29651                                First time in India\n",
       "29652                                First time in India\n",
       "29653                                First time in India\n",
       "29654                                First time in India\n",
       "29655                                First time in India\n",
       "29656                                                   \n",
       "\n",
       "[29657 rows x 1 columns]>"
      ]
     },
     "execution_count": 21,
     "metadata": {},
     "output_type": "execute_result"
    }
   ],
   "source": [
    "titleDF.head"
   ]
  },
  {
   "cell_type": "markdown",
   "metadata": {},
   "source": [
    "# 4. Removing Stopwords"
   ]
  },
  {
   "cell_type": "code",
   "execution_count": 22,
   "metadata": {
    "collapsed": true
   },
   "outputs": [],
   "source": [
    "import nltk"
   ]
  },
  {
   "cell_type": "code",
   "execution_count": 23,
   "metadata": {
    "collapsed": false
   },
   "outputs": [
    {
     "ename": "TypeError",
     "evalue": "'LazyCorpusLoader' object is not callable",
     "output_type": "error",
     "traceback": [
      "\u001b[0;31m---------------------------------------------------------------------------\u001b[0m",
      "\u001b[0;31mTypeError\u001b[0m                                 Traceback (most recent call last)",
      "\u001b[0;32m<ipython-input-23-6d195f391162>\u001b[0m in \u001b[0;36m<module>\u001b[0;34m()\u001b[0m\n\u001b[1;32m      8\u001b[0m \u001b[0;31m# Let's test this\u001b[0m\u001b[0;34m\u001b[0m\u001b[0;34m\u001b[0m\u001b[0m\n\u001b[1;32m      9\u001b[0m \u001b[0;34m\u001b[0m\u001b[0m\n\u001b[0;32m---> 10\u001b[0;31m \u001b[0mprint\u001b[0m\u001b[0;34m(\u001b[0m\u001b[0mremoveStopWords\u001b[0m\u001b[0;34m(\u001b[0m\u001b[0;34m\"First time in India\"\u001b[0m\u001b[0;34m)\u001b[0m\u001b[0;34m)\u001b[0m\u001b[0;34m\u001b[0m\u001b[0m\n\u001b[0m",
      "\u001b[0;32m<ipython-input-23-6d195f391162>\u001b[0m in \u001b[0;36mremoveStopWords\u001b[0;34m(text)\u001b[0m\n\u001b[1;32m      2\u001b[0m     \u001b[0mwordArray\u001b[0m \u001b[0;34m=\u001b[0m \u001b[0;34m[\u001b[0m\u001b[0;34m]\u001b[0m\u001b[0;34m\u001b[0m\u001b[0m\n\u001b[1;32m      3\u001b[0m     \u001b[0;32mfor\u001b[0m \u001b[0mword\u001b[0m \u001b[0;32min\u001b[0m \u001b[0mtext\u001b[0m\u001b[0;34m:\u001b[0m\u001b[0;34m\u001b[0m\u001b[0m\n\u001b[0;32m----> 4\u001b[0;31m         \u001b[0;32mif\u001b[0m \u001b[0mword\u001b[0m \u001b[0;32mnot\u001b[0m \u001b[0;32min\u001b[0m \u001b[0mnltk\u001b[0m\u001b[0;34m.\u001b[0m\u001b[0mcorpus\u001b[0m\u001b[0;34m.\u001b[0m\u001b[0mstopwords\u001b[0m\u001b[0;34m(\u001b[0m\u001b[0;34m'english'\u001b[0m\u001b[0;34m)\u001b[0m\u001b[0;34m:\u001b[0m\u001b[0;34m\u001b[0m\u001b[0m\n\u001b[0m\u001b[1;32m      5\u001b[0m             \u001b[0mwordArray\u001b[0m\u001b[0;34m.\u001b[0m\u001b[0mappend\u001b[0m\u001b[0;34m(\u001b[0m\u001b[0mword\u001b[0m\u001b[0;34m)\u001b[0m\u001b[0;34m\u001b[0m\u001b[0m\n\u001b[1;32m      6\u001b[0m     \u001b[0;32mreturn\u001b[0m \u001b[0mwordArray\u001b[0m\u001b[0;34m\u001b[0m\u001b[0m\n",
      "\u001b[0;31mTypeError\u001b[0m: 'LazyCorpusLoader' object is not callable"
     ]
    }
   ],
   "source": [
    "def removeStopWords(text):\n",
    "    wordArray = []\n",
    "    for word in text:\n",
    "        if word not in nltk.corpus.stopwords('english'):\n",
    "            wordArray.append(word)\n",
    "    return wordArray\n",
    "\n",
    "# Let's test this\n",
    "\n",
    "print(removeStopWords(\"First time in India\"))"
   ]
  },
  {
   "cell_type": "code",
   "execution_count": null,
   "metadata": {
    "collapsed": true
   },
   "outputs": [],
   "source": []
  }
 ],
 "metadata": {
  "kernelspec": {
   "display_name": "Python 3",
   "language": "python",
   "name": "python3"
  },
  "language_info": {
   "codemirror_mode": {
    "name": "ipython",
    "version": 3
   },
   "file_extension": ".py",
   "mimetype": "text/x-python",
   "name": "python",
   "nbconvert_exporter": "python",
   "pygments_lexer": "ipython3",
   "version": "3.5.2"
  }
 },
 "nbformat": 4,
 "nbformat_minor": 1
}
